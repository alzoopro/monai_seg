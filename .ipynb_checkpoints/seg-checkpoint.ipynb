{
 "cells": [
  {
   "cell_type": "code",
   "execution_count": null,
   "id": "02ed8100",
   "metadata": {},
   "outputs": [],
   "source": [
    "import json\n",
    "from datetime import datetime\n",
    "\n",
    "import torch\n",
    "from torch.optim import Adam\n",
    "from torch.utils.tensorboard import SummaryWriter\n",
    "from torch import sigmoid\n",
    "\n",
    "from monai.utils import set_determinism\n",
    "from monai.transforms import (\n",
    "    Compose,\n",
    "    Lambdad,\n",
    "    LoadImaged,\n",
    "    AddChanneld,\n",
    "    ScaleIntensityRanged,\n",
    "    BorderPadd,\n",
    "    RandCropByPosNegLabeld,\n",
    "    RandRotated,\n",
    "    RandZoomd,\n",
    "    AsDiscreted,\n",
    "    SelectItemsd,\n",
    "    Resized,\n",
    "    totensord)\n",
    "\n",
    "from monai.data import (\n",
    "    Dataset,\n",
    "    CacheDataset,\n",
    "    DataLoader,\n",
    "    partition_dataset_classes)\n",
    "from monai.networks.nets import UNet, VNet\n",
    "from monai.losses import DiceLoss\n",
    "from monai.metrics import compute_meandice\n",
    "from monai.inferers import SlidingWindowInferer\n",
    "\n",
    "from tqdm import trange, tqdm\n",
    "import matplotlib.pyplot as plt\n",
    "def imshow(x):\n",
    "    plt.imshow(x,cmap='gray')\n",
    "    plt.show()"
   ]
  },
  {
   "cell_type": "code",
   "execution_count": null,
   "id": "0f4bdfbc",
   "metadata": {},
   "outputs": [],
   "source": []
  }
 ],
 "metadata": {
  "kernelspec": {
   "display_name": "Python [conda env:monai] *",
   "language": "python",
   "name": "conda-env-monai-py"
  },
  "language_info": {
   "codemirror_mode": {
    "name": "ipython",
    "version": 3
   },
   "file_extension": ".py",
   "mimetype": "text/x-python",
   "name": "python",
   "nbconvert_exporter": "python",
   "pygments_lexer": "ipython3",
   "version": "3.8.12"
  }
 },
 "nbformat": 4,
 "nbformat_minor": 5
}
