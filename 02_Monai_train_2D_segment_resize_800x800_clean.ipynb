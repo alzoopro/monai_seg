{
 "cells": [
  {
   "cell_type": "markdown",
   "id": "b4ebcb4b",
   "metadata": {},
   "source": [
    "# Import Packages"
   ]
  },
  {
   "cell_type": "code",
   "execution_count": null,
   "id": "6fbe4a7a",
   "metadata": {},
   "outputs": [],
   "source": [
    "import logging\n",
    "import os\n",
    "import sys\n",
    "import tempfile\n",
    "from glob import glob\n",
    "import time\n",
    "\n",
    "import torch\n",
    "from PIL import Image\n",
    "from torch.utils.data import DataLoader\n",
    "from torch.utils.tensorboard import SummaryWriter\n",
    "\n",
    "import monai\n",
    "from monai.data import create_test_image_2d, list_data_collate, decollate_batch\n",
    "from monai.inferers import sliding_window_inference, SimpleInferer\n",
    "from monai.metrics import DiceMetric\n",
    "from monai.transforms import (\n",
    "    Activations,\n",
    "    AddChanneld,\n",
    "    AsDiscrete,\n",
    "    Compose,\n",
    "    LoadImaged,\n",
    "    RandCropByPosNegLabeld,\n",
    "    RandRotate90d,\n",
    "    ScaleIntensityd,\n",
    "    EnsureTyped,\n",
    "    EnsureType,\n",
    "    AsChannelFirstd,\n",
    "    AsChannelLast,\n",
    "    Resized,\n",
    "    RandScaleCropd,\n",
    "    RandRotated,\n",
    "    SaveImage,\n",
    ")\n",
    "from monai.visualize import plot_2d_or_3d_image"
   ]
  },
  {
   "cell_type": "markdown",
   "id": "8d2eccee",
   "metadata": {},
   "source": [
    "# Check MONAI configurations"
   ]
  },
  {
   "cell_type": "code",
   "execution_count": null,
   "id": "5f5e578f",
   "metadata": {},
   "outputs": [],
   "source": [
    "monai.config.print_config()\n",
    "logging.basicConfig(stream=sys.stdout, level=logging.INFO)\n"
   ]
  },
  {
   "cell_type": "markdown",
   "id": "89c58355",
   "metadata": {},
   "source": [
    "# Process VGH Data"
   ]
  },
  {
   "cell_type": "code",
   "execution_count": null,
   "id": "4d7724f0",
   "metadata": {},
   "outputs": [],
   "source": [
    "# Set the Data folder\n",
    "data_path = \"C:\\\\Users\\\\alzoo\\\\Desktop\\\\monai\\\\SEG_Train_Datasets\\\\SEG_Train_Datasets\\\\\""
   ]
  },
  {
   "cell_type": "markdown",
   "id": "9f26299f",
   "metadata": {},
   "source": [
    "## -obtain train data list"
   ]
  },
  {
   "cell_type": "code",
   "execution_count": null,
   "id": "c663d256",
   "metadata": {},
   "outputs": [],
   "source": [
    "# Load train files\n",
    "tempdir = data_path + \"Train_Images\\\\\"\n",
    "train_images = sorted(glob(os.path.join(tempdir, \"*.jpg\")))\n",
    "\n",
    "tempdir = data_path + \"msk_img\\\\\"\n",
    "train_segs = sorted(glob(os.path.join(tempdir, \"*.png\")))\n",
    "print(f\" {len(train_images)} train_images and {len(train_segs)} train_segs\")\n",
    "train_files = [{\"img\": img, \"seg\": seg} for img, seg in zip(train_images[:], train_segs[:])]\n"
   ]
  },
  {
   "cell_type": "markdown",
   "id": "bb998c25",
   "metadata": {},
   "source": [
    "## -obtain validation data list"
   ]
  },
  {
   "cell_type": "code",
   "execution_count": null,
   "id": "28818207",
   "metadata": {},
   "outputs": [],
   "source": [
    "# Load validation files\n",
    "tempdir = data_path + \"valid_img\\\\\"\n",
    "valid_images = sorted(glob(os.path.join(tempdir, \"*.jpg\")))\n",
    "\n",
    "tempdir = data_path + \"valid_msk_img\\\\\"\n",
    "valid_segs = sorted(glob(os.path.join(tempdir, \"*.png\")))\n",
    "print(f\" {len(valid_images)} valid_images and {len(valid_segs)} valid_segs\")\n",
    "\n",
    "val_files = [{\"img\": img, \"seg\": seg} for img, seg in zip(valid_images[:], valid_segs[:])]\n"
   ]
  },
  {
   "cell_type": "markdown",
   "id": "d5e6bfcc",
   "metadata": {},
   "source": [
    "# Define Trasform for image and segmentation"
   ]
  },
  {
   "cell_type": "code",
   "execution_count": null,
   "id": "48a3ce26",
   "metadata": {},
   "outputs": [],
   "source": [
    "# define transforms for image and segmentation\n",
    "train_transforms = Compose(\n",
    "    [\n",
    "        LoadImaged(keys=[\"img\", \"seg\"]),\n",
    "        AddChanneld(keys=[\"seg\"]),        \n",
    "        AsChannelFirstd(keys=[\"img\"]),\n",
    "        ScaleIntensityd(keys=[\"img\", \"seg\"]),\n",
    "        RandScaleCropd(keys=[\"img\", \"seg\"],roi_scale=0.5),\n",
    "        RandRotated(keys=[\"img\", \"seg\"],range_x=3.14),\n",
    "        Resized(keys=[\"img\", \"seg\"], spatial_size=[800, 800]),\n",
    "        #RandCropByPosNegLabeld(\n",
    "        #    keys=[\"img\", \"seg\"], label_key=\"seg\", spatial_size=[96, 96], pos=1, neg=1, num_samples=4\n",
    "        #),\n",
    "        RandRotate90d(keys=[\"img\", \"seg\"], prob=0.5, spatial_axes=[0, 1]),\n",
    "        EnsureTyped(keys=[\"img\", \"seg\"]),\n",
    "    ]\n",
    ")\n",
    "val_transforms = Compose(\n",
    "    [\n",
    "        LoadImaged(keys=[\"img\", \"seg\"]),\n",
    "        AddChanneld(keys=[\"seg\"]),        \n",
    "        AsChannelFirstd(keys=[\"img\"]),\n",
    "        ScaleIntensityd(keys=[\"img\", \"seg\"]),\n",
    "        Resized(keys=[\"img\", \"seg\"], spatial_size=[800, 800]),\n",
    "        EnsureTyped(keys=[\"img\", \"seg\"]),\n",
    "    ]\n",
    ")"
   ]
  },
  {
   "cell_type": "markdown",
   "id": "7ec2ec36",
   "metadata": {},
   "source": [
    "# Check and visualize the transform results"
   ]
  },
  {
   "cell_type": "code",
   "execution_count": null,
   "id": "ba12b43b",
   "metadata": {},
   "outputs": [],
   "source": [
    "# define dataset, data loader\n",
    "check_ds = monai.data.Dataset(data=train_files, transform=train_transforms)"
   ]
  },
  {
   "cell_type": "code",
   "execution_count": null,
   "id": "a389057c",
   "metadata": {},
   "outputs": [],
   "source": [
    "# use batch_size=2 to load images and use RandCropByPosNegLabeld to generate 2 x 4 images for network training\n",
    "check_loader = DataLoader(check_ds, batch_size=8, num_workers=12, collate_fn=list_data_collate)\n",
    "check_data = monai.utils.misc.first(check_loader)\n",
    "print(check_data[\"img\"].shape, check_data[\"seg\"].shape)\n",
    "\n",
    "\n",
    "import matplotlib.pyplot as plt\n",
    "\n",
    "plt.figure(\"visualize\",(16,64))\n",
    "for i in range(8):\n",
    "    plt.subplot(8,2,2*i+1)    \n",
    "    plt.imshow(check_data[\"img\"][i].permute(1,2,0))\n",
    "    plt.subplot(8,2,2*i+2)\n",
    "    plt.imshow(check_data[\"seg\"][i].permute(1,2,0))"
   ]
  },
  {
   "cell_type": "markdown",
   "id": "c388ac0b",
   "metadata": {},
   "source": [
    "# Create DataLoader for train and validation data"
   ]
  },
  {
   "cell_type": "code",
   "execution_count": null,
   "id": "07a90374",
   "metadata": {},
   "outputs": [],
   "source": [
    "# create a training data loader\n",
    "train_ds = monai.data.Dataset(data=train_files, transform=train_transforms)\n",
    "# use batch_size=2 to load images and use RandCropByPosNegLabeld to generate 2 x 4 images for network training\n",
    "train_loader = DataLoader(\n",
    "    train_ds,\n",
    "    batch_size=8,\n",
    "    shuffle=True,\n",
    "    num_workers=8,\n",
    "    collate_fn=list_data_collate,\n",
    "    pin_memory=torch.cuda.is_available(),\n",
    ")\n",
    "\n",
    "# create a validation data loader\n",
    "val_ds = monai.data.Dataset(data=val_files, transform=val_transforms)\n",
    "val_loader = DataLoader(val_ds, batch_size=4, num_workers=4, collate_fn=list_data_collate)\n",
    "\n"
   ]
  },
  {
   "cell_type": "markdown",
   "id": "5c800e1e",
   "metadata": {},
   "source": [
    "# Define metric and post-processing"
   ]
  },
  {
   "cell_type": "code",
   "execution_count": null,
   "id": "fe58338e",
   "metadata": {},
   "outputs": [],
   "source": [
    "dice_metric = DiceMetric(include_background=False, reduction=\"mean\", get_not_nans=False)\n",
    "post_trans = Compose([EnsureType(), Activations(sigmoid=True), AsDiscrete(threshold=0.5)])"
   ]
  },
  {
   "cell_type": "markdown",
   "id": "6511bb20",
   "metadata": {},
   "source": [
    "# Built Model"
   ]
  },
  {
   "cell_type": "code",
   "execution_count": null,
   "id": "9c5916f3",
   "metadata": {},
   "outputs": [],
   "source": [
    "# create UNet, DiceLoss and Adam optimizer\n",
    "device = torch.device(\"cuda\" if torch.cuda.is_available() else \"cpu\")\n",
    "model = monai.networks.nets.UNet(\n",
    "    spatial_dims=2,\n",
    "    in_channels=3,\n",
    "    out_channels=1,\n",
    "    #channels=(16, 32, 64, 128, 256),\n",
    "    channels=(32, 64, 128, 256, 512),\n",
    "    strides=(2, 2, 2, 2),\n",
    "    num_res_units=2,\n",
    ").to(device)\n",
    "\n",
    "\n",
    "loss_function = monai.losses.DiceLoss(sigmoid=True)\n",
    "optimizer = torch.optim.Adam(model.parameters(), 1e-3)"
   ]
  },
  {
   "cell_type": "code",
   "execution_count": null,
   "id": "8f6204b4",
   "metadata": {},
   "outputs": [],
   "source": [
    "torch.cuda.is_available()\n",
    "print(torch.__version__)"
   ]
  },
  {
   "cell_type": "markdown",
   "id": "218bdf0b",
   "metadata": {},
   "source": [
    "# Do you want to load previous model?"
   ]
  },
  {
   "cell_type": "code",
   "execution_count": null,
   "id": "90dd6ff4",
   "metadata": {},
   "outputs": [],
   "source": [
    "#model.load_state_dict(torch.load(\"Dice_55_best_metric_model_segmentation2d_dict.pth\"))"
   ]
  },
  {
   "cell_type": "markdown",
   "id": "562a05fe",
   "metadata": {},
   "source": [
    "# Create Visualize Function"
   ]
  },
  {
   "cell_type": "code",
   "execution_count": null,
   "id": "96d5582e",
   "metadata": {},
   "outputs": [],
   "source": [
    "def visualize(**images):\n",
    "    \"\"\"PLot images in one row.\"\"\"\n",
    "    n = len(images)\n",
    "    plt.figure(figsize=(16, 16))\n",
    "    for i, (name, image) in enumerate(images.items()):\n",
    "        plt.subplot(1, n, i + 1)\n",
    "        plt.xticks([])\n",
    "        plt.yticks([])\n",
    "        plt.title(' '.join(name.split('_')).title())\n",
    "        plt.imshow(image)\n",
    "    plt.show()"
   ]
  },
  {
   "cell_type": "markdown",
   "id": "efd469de",
   "metadata": {},
   "source": [
    "# Define training parameters and Start training"
   ]
  },
  {
   "cell_type": "code",
   "execution_count": null,
   "id": "c5c51774",
   "metadata": {},
   "outputs": [],
   "source": [
    "#### start a typical PyTorch training\n",
    "total_epochs = 20\n",
    "val_interval = 1\n",
    "best_metric = 100\n",
    "best_metric_epoch = -1\n",
    "epoch_loss_values = list()\n",
    "metric_values = list()\n",
    "writer = SummaryWriter()\n",
    "for epoch in range(total_epochs):\n",
    "    print(\"-\" * 10)\n",
    "    print(f\"epoch {epoch + 1}/{total_epochs}\")\n",
    "    model.train()\n",
    "    epoch_loss = 0\n",
    "    step = 0\n",
    "    for batch_data in train_loader:\n",
    "        step += 1\n",
    "        inputs, labels = batch_data[\"img\"].to(device), batch_data[\"seg\"].to(device)\n",
    "        optimizer.zero_grad()\n",
    "        outputs = model(inputs)\n",
    "        loss = loss_function(outputs, labels)\n",
    "        loss.backward()\n",
    "        optimizer.step()\n",
    "        epoch_loss += loss.item()\n",
    "        epoch_len = len(train_ds) // train_loader.batch_size\n",
    "        # print(f\"{step}/{epoch_len}, train_loss: {loss.item():.4f}\")\n",
    "        writer.add_scalar(\"train_loss\", loss.item(), epoch_len * epoch + step)\n",
    "    epoch_loss /= step\n",
    "    epoch_loss_values.append(epoch_loss)\n",
    "    local_time = time.strftime(\"%Y-%m-%d %H:%M:%S\", time.localtime())\n",
    "    print(f\"{local_time} epoch {epoch + 1} average loss: {epoch_loss:.4f}\")\n",
    "\n",
    "    if (epoch + 1) % val_interval == 0:\n",
    "        model.eval()\n",
    "        with torch.no_grad():\n",
    "            val_images = None\n",
    "            val_labels = None\n",
    "            val_outputs = None\n",
    "            show_val = True\n",
    "            for val_data in val_loader:\n",
    "                val_images, val_labels = val_data[\"img\"].to(device), val_data[\"seg\"].to(device)\n",
    "                roi_size = (800, 800)\n",
    "                sw_batch_size = 4\n",
    "                val_outputs = sliding_window_inference(val_images, roi_size, sw_batch_size, model) \n",
    "                \n",
    "                if show_val:\n",
    "                    visualize( \n",
    "                        image=val_images[0].cpu().permute(1,2,0), \n",
    "                        ground_truth_mask=val_labels[0].cpu().permute(1,2,0), \n",
    "                        predicted_mask=val_outputs[0].cpu().permute(1,2,0)\n",
    "                    )        \n",
    "                show_val = False\n",
    "                \n",
    "                val_outputs = [post_trans(i) for i in decollate_batch(val_outputs)]                \n",
    "                val_labels = [post_trans(i) for i in decollate_batch(val_labels)]\n",
    "                # compute metric for current iteration\n",
    "                dice_metric(y_pred=val_outputs, y=val_labels)\n",
    "            # aggregate the final mean dice result\n",
    "            metric = dice_metric.aggregate().item()\n",
    "            # reset the status for next validation round\n",
    "            dice_metric.reset()\n",
    "            metric_values.append(metric)\n",
    "            if metric < best_metric:\n",
    "                best_metric = metric\n",
    "                best_metric_epoch = epoch + 1\n",
    "                torch.save(model.state_dict(), \"best_metric_model_segmentation2d_dict.pth\")\n",
    "                print(\"saved new best metric model\")\n",
    "            print(\n",
    "                \"current epoch: {} current val mean dice loss: {:.4f} best val mean dice loss: {:.4f} at epoch {}\".format(\n",
    "                    epoch + 1, metric, best_metric, best_metric_epoch\n",
    "                )\n",
    "            )\n",
    "            writer.add_scalar(\"val_mean_dice loss\", metric, epoch + 1)\n",
    "            # plot the last model output as GIF image in TensorBoard with the corresponding image and label\n",
    "            plot_2d_or_3d_image(val_images, epoch + 1, writer, index=0, tag=\"image\")\n",
    "            plot_2d_or_3d_image(val_labels, epoch + 1, writer, index=0, tag=\"label\")\n",
    "            plot_2d_or_3d_image(val_outputs, epoch + 1, writer, index=0, tag=\"output\")\n",
    "            \n",
    "\n",
    "print(f\"train completed, best_metric: {best_metric:.4f} at epoch: {best_metric_epoch}\")\n",
    "writer.close()\n",
    "\n",
    "\n",
    "torch.save(model.state_dict(), \"Final_model_40_epoches_segmentation2d_dict.pth\")"
   ]
  },
  {
   "cell_type": "markdown",
   "id": "6108722e",
   "metadata": {},
   "source": [
    "## -obtain testing data list"
   ]
  },
  {
   "cell_type": "code",
   "execution_count": null,
   "id": "60ed7c53",
   "metadata": {},
   "outputs": [],
   "source": [
    "# Load testing files\n",
    "tempdir = data_path + \"Test/img/\"\n",
    "test_images = sorted(glob(os.path.join(tempdir, \"*.jpg\")))\n",
    "\n",
    "tempdir = data_path + \"Test/msk_img/\"\n",
    "test_segs = sorted(glob(os.path.join(tempdir, \"*.png\")))\n",
    "\n",
    "print(f\" {len(test_images)} test_images and {len(test_segs)} test_segs\")\n",
    "\n",
    "test_files = [{\"img\": img, \"seg\": seg} for img, seg in zip(test_images[:], test_segs[:])]\n"
   ]
  },
  {
   "cell_type": "markdown",
   "id": "a6044c50",
   "metadata": {},
   "source": [
    "# Define Transform for image and Segmentation"
   ]
  },
  {
   "cell_type": "code",
   "execution_count": null,
   "id": "00c5b59b",
   "metadata": {},
   "outputs": [],
   "source": [
    "# define transforms for image and segmentation\n",
    "test_transforms = Compose(\n",
    "    [\n",
    "        LoadImaged(keys=[\"img\", \"seg\"]),\n",
    "        \n",
    "        AddChanneld(keys=[\"seg\"]),        \n",
    "        AsChannelFirstd(keys=[\"img\"]),\n",
    "\n",
    "        ScaleIntensityd(keys=[\"img\", \"seg\"]),\n",
    "        #Resized(keys=[\"img\", \"seg\"], spatial_size=[800, 800]),\n",
    "        EnsureTyped(keys=[\"img\", \"seg\"]),\n",
    "    ]\n",
    ")\n",
    "test_ds = monai.data.Dataset(data=test_files, transform=test_transforms)"
   ]
  },
  {
   "cell_type": "markdown",
   "id": "268a6c9e",
   "metadata": {},
   "source": [
    "# Save IM(images) GT(ground-truths) PD(predictions) in the /output/ folder"
   ]
  },
  {
   "cell_type": "code",
   "execution_count": null,
   "id": "5d5ab67c",
   "metadata": {},
   "outputs": [],
   "source": [
    "test_loader = DataLoader(test_ds, batch_size=1, num_workers=4, collate_fn=list_data_collate)\n",
    "saverPD = SaveImage(output_dir=\"./output\", output_ext=\".png\", output_postfix=\"PD\",scale=255,separate_folder=False)\n",
    "saverGT = SaveImage(output_dir=\"./output\", output_ext=\".png\", output_postfix=\"GT\",scale=255,separate_folder=False)\n",
    "saverIM = SaveImage(output_dir=\"./output\", output_ext=\".png\", output_postfix=\"IM\",scale=255,separate_folder=False)"
   ]
  },
  {
   "cell_type": "markdown",
   "id": "a02b388c",
   "metadata": {},
   "source": [
    "# Load another model?"
   ]
  },
  {
   "cell_type": "code",
   "execution_count": null,
   "id": "8195646d",
   "metadata": {},
   "outputs": [],
   "source": [
    "#model.load_state_dict(torch.load(\"best_metric_model_segmentation2d_dict.pth\"))"
   ]
  },
  {
   "cell_type": "markdown",
   "id": "2b36a0b0",
   "metadata": {},
   "source": [
    "# Inference on Test data"
   ]
  },
  {
   "cell_type": "code",
   "execution_count": null,
   "id": "a80ad825",
   "metadata": {},
   "outputs": [],
   "source": [
    "with torch.no_grad():\n",
    "    for test_data in test_loader:\n",
    "        test_images, test_labels = test_data[\"img\"].to(device), test_data[\"seg\"].to(device)\n",
    "        # define sliding window size and batch size for windows inference\n",
    "        roi_size = (800, 800)\n",
    "        sw_batch_size = 4\n",
    "        test_outputs = sliding_window_inference(test_images, roi_size, sw_batch_size, model)\n",
    "\n",
    "        visualize( \n",
    "            image=test_images[0].cpu().permute(1,2,0), \n",
    "            ground_truth_mask=test_labels[0].cpu().permute(1,2,0), \n",
    "            predicted_mask=test_outputs[0].squeeze().cpu().numpy().round()\n",
    "        )           \n",
    "        saverGT(test_labels[0].cpu())\n",
    "        saverIM(test_images[0].cpu())        \n",
    "        saverPD(test_outputs[0].cpu())\n",
    "        \n",
    "        test_outputs = [post_trans(i) for i in decollate_batch(test_outputs)]\n",
    "        test_labels = [post_trans(i) for i in decollate_batch(test_labels)]\n",
    "        \n",
    "        \n",
    "                \n",
    "        # compute metric for current iteration\n",
    "        dice_metric(y_pred=test_outputs, y=test_labels)\n",
    "        #for test_output in test_outputs:            \n",
    "        #    saver(test_output*255)\n",
    "    # aggregate the final mean dice result    \n",
    "    print(\"evaluation metric:\", dice_metric.aggregate().item())\n",
    "    # reset the status\n",
    "    dice_metric.reset()"
   ]
  },
  {
   "cell_type": "code",
   "execution_count": null,
   "id": "91b43170",
   "metadata": {},
   "outputs": [],
   "source": []
  },
  {
   "cell_type": "code",
   "execution_count": null,
   "id": "eb7544bc",
   "metadata": {},
   "outputs": [],
   "source": []
  }
 ],
 "metadata": {
  "kernelspec": {
   "display_name": "Python [conda env:monai] *",
   "language": "python",
   "name": "conda-env-monai-py"
  },
  "language_info": {
   "codemirror_mode": {
    "name": "ipython",
    "version": 3
   },
   "file_extension": ".py",
   "mimetype": "text/x-python",
   "name": "python",
   "nbconvert_exporter": "python",
   "pygments_lexer": "ipython3",
   "version": "3.8.12"
  }
 },
 "nbformat": 4,
 "nbformat_minor": 5
}
