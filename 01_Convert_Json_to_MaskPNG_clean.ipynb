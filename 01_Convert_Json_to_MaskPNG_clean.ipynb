{
 "cells": [
  {
   "cell_type": "markdown",
   "id": "dfcaac8d",
   "metadata": {},
   "source": [
    "# Import packages"
   ]
  },
  {
   "cell_type": "code",
   "execution_count": null,
   "id": "9e607c6e",
   "metadata": {},
   "outputs": [],
   "source": [
    "import json\n",
    "import numpy as np\n",
    "\n",
    "import PIL.Image\n",
    "import PIL.ImageDraw\n",
    "from PIL import Image\n",
    "\n",
    "import matplotlib.pyplot as plt\n",
    "import matplotlib\n",
    "\n",
    "\n",
    "import os\n",
    "import cv2"
   ]
  },
  {
   "cell_type": "markdown",
   "id": "fcb00af2",
   "metadata": {},
   "source": [
    "# Define shape_to_mask function"
   ]
  },
  {
   "cell_type": "code",
   "execution_count": null,
   "id": "faa23fe6",
   "metadata": {},
   "outputs": [],
   "source": [
    "def shape_to_mask(\n",
    "    img_shape, points, shape_type=None, line_width=10, point_size=5\n",
    "):\n",
    "    mask = np.zeros(img_shape[:2], dtype=np.uint8)\n",
    "    mask = PIL.Image.fromarray(mask)\n",
    "    draw = PIL.ImageDraw.Draw(mask)\n",
    "    xy = [tuple(point) for point in points]\n",
    "    if shape_type == \"circle\":\n",
    "        assert len(xy) == 2, \"Shape of shape_type=circle must have 2 points\"\n",
    "        (cx, cy), (px, py) = xy\n",
    "        d = math.sqrt((cx - px) ** 2 + (cy - py) ** 2)\n",
    "        draw.ellipse([cx - d, cy - d, cx + d, cy + d], outline=1, fill=1)\n",
    "    elif shape_type == \"rectangle\":\n",
    "        assert len(xy) == 2, \"Shape of shape_type=rectangle must have 2 points\"\n",
    "        draw.rectangle(xy, outline=1, fill=1)\n",
    "    elif shape_type == \"line\":\n",
    "        assert len(xy) == 2, \"Shape of shape_type=line must have 2 points\"\n",
    "        draw.line(xy=xy, fill=1, width=line_width)\n",
    "    elif shape_type == \"linestrip\":\n",
    "        draw.line(xy=xy, fill=1, width=line_width)\n",
    "    elif shape_type == \"point\":\n",
    "        assert len(xy) == 1, \"Shape of shape_type=point must have 1 points\"\n",
    "        cx, cy = xy[0]\n",
    "        r = point_size\n",
    "        draw.ellipse([cx - r, cy - r, cx + r, cy + r], outline=1, fill=1)\n",
    "    else:\n",
    "        assert len(xy) > 2, \"Polygon must have points more than 2\"\n",
    "        draw.polygon(xy=xy, outline=1, fill=1)\n",
    "    mask = np.array(mask, dtype=bool)\n",
    "    return mask"
   ]
  },
  {
   "cell_type": "markdown",
   "id": "cf7fa2a1",
   "metadata": {},
   "source": [
    "# Set process folder"
   ]
  },
  {
   "cell_type": "code",
   "execution_count": null,
   "id": "130d6c2a",
   "metadata": {},
   "outputs": [],
   "source": [
    "folder_path = \"C:\\\\Users\\\\alzoo\\\\Desktop\\\\monai\\\\SEG_Train_Datasets\\\\SEG_Train_Datasets\\\\Train_Annotations\\\\\"\n"
   ]
  },
  {
   "cell_type": "markdown",
   "id": "39b689a6",
   "metadata": {},
   "source": [
    "# Create Visualize Function"
   ]
  },
  {
   "cell_type": "code",
   "execution_count": null,
   "id": "45757470",
   "metadata": {},
   "outputs": [],
   "source": [
    "def visualize(**images):\n",
    "    \"\"\"PLot images in one row.\"\"\"\n",
    "    n = len(images)\n",
    "    plt.figure(figsize=(16, 16))\n",
    "    for i, (name, image) in enumerate(images.items()):\n",
    "        plt.subplot(1, n, i + 1)\n",
    "        plt.xticks([])\n",
    "        plt.yticks([])\n",
    "        plt.title(' '.join(name.split('_')).title())\n",
    "        plt.imshow(image)\n",
    "    plt.show()"
   ]
  },
  {
   "cell_type": "markdown",
   "id": "e5d200c6",
   "metadata": {},
   "source": [
    "# Processing all json file in the folder (remember to create a \"msk_img\" folder for storing the results)"
   ]
  },
  {
   "cell_type": "code",
   "execution_count": null,
   "id": "eb67123a",
   "metadata": {},
   "outputs": [],
   "source": [
    "for filename in os.listdir(folder_path):\n",
    "    if 'json' in filename:\n",
    "        # Read in all all the data from the CSV file        \n",
    "        json_path = folder_path + filename        \n",
    "        write_msk_img_name = filename.replace(\"json\",\"png\")\n",
    "        write_folder_path = folder_path.replace(\"Train_Annotations\",\"msk_img\")\n",
    "        \n",
    "        img_path = folder_path.replace(\"Train_Annotations\",\"Train_Images\") + filename.replace(\"json\",\"jpg\")\n",
    "        img = Image.open(img_path)\n",
    "\n",
    "        #Read Json file\n",
    "        with open(json_path, \"r\",encoding=\"utf-8\") as f:\n",
    "            dj = json.load(f)\n",
    "\n",
    "        #Create an empty img as mask_img\n",
    "        temp_mask_img = np.zeros([dj['imageHeight'], dj['imageWidth']],dtype=np.uint8)\n",
    "\n",
    "        #Plot each mask into mask_img\n",
    "        print(\"Processing file:\"+filename)\n",
    "        for i in range(len(dj['shapes'])):\n",
    "            mask = shape_to_mask((dj['imageHeight'],dj['imageWidth']), dj['shapes'][i]['points'], shape_type=dj['shapes'][i]['shape_type'],line_width=1, point_size=1)            \n",
    "            temp_mask_img = temp_mask_img + mask.astype(int) \n",
    "        temp_mask_img = (temp_mask_img>0).astype(int)\n",
    "        \n",
    "        \n",
    "        visualize(\n",
    "            image = img,\n",
    "            mask = temp_mask_img\n",
    "            )\n",
    "        print(f\"temp_mask_img.range is {temp_mask_img.max()} to {temp_mask_img.min()}\")\n",
    "        # Save the file\n",
    "        cv2.imwrite(write_folder_path+write_msk_img_name, temp_mask_img*255)\n",
    "        #matplotlib.image.imsave(write_folder_path+write_msk_img_name, temp_mask_img, cmap=\"gray\")\n",
    "               "
   ]
  },
  {
   "cell_type": "markdown",
   "id": "208a477e",
   "metadata": {},
   "source": [
    "# Check Single Image"
   ]
  },
  {
   "cell_type": "code",
   "execution_count": null,
   "id": "f95b1499",
   "metadata": {},
   "outputs": [],
   "source": [
    "check_file = \"/Workspace/data/VGH_Seg_IMG_Label/Test/mask/export-screen-2020-Jan-10_1322 (1).json\"\n",
    "\n",
    "# load the json file\n",
    "with open(check_file, \"r\",encoding=\"utf-8\") as f:\n",
    "    dj = json.load(f)\n",
    "\n",
    "#Create an empty img as mask_img\n",
    "temp_mask_img = np.zeros([dj['imageHeight'], dj['imageWidth']],dtype=np.uint8)\n",
    "\n",
    "#Plot each mask into mask_img\n",
    "for i in range(len(dj['shapes'])):\n",
    "    print(\"i is\"+ str(i)+\" type(temp_mask_img) is \" + str(type(temp_mask_img))+ \"temp_mask_img.shape is\"+ str(temp_mask_img.shape) + \"temp_mask_img.max()\"+str(temp_mask_img.max()))\n",
    "    mask = shape_to_mask((dj['imageHeight'],dj['imageWidth']), dj['shapes'][i]['points'], shape_type=dj['shapes'][i]['shape_type'],line_width=1, point_size=1)\n",
    "    temp_mask_img = temp_mask_img + mask.astype(int) #boolean to 0,Convert to 1\n",
    "\n",
    "%matplotlib inline\n",
    "plt.imshow(temp_mask_img)\n",
    "\n",
    "del temp_mask_img"
   ]
  },
  {
   "cell_type": "code",
   "execution_count": null,
   "id": "a315183a",
   "metadata": {},
   "outputs": [],
   "source": []
  }
 ],
 "metadata": {
  "kernelspec": {
   "display_name": "Python 3 (ipykernel)",
   "language": "python",
   "name": "python3"
  },
  "language_info": {
   "codemirror_mode": {
    "name": "ipython",
    "version": 3
   },
   "file_extension": ".py",
   "mimetype": "text/x-python",
   "name": "python",
   "nbconvert_exporter": "python",
   "pygments_lexer": "ipython3",
   "version": "3.9.7"
  }
 },
 "nbformat": 4,
 "nbformat_minor": 5
}
